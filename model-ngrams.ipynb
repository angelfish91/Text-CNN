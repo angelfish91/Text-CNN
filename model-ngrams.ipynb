{
 "cells": [
  {
   "cell_type": "code",
   "execution_count": 1,
   "metadata": {
    "collapsed": true
   },
   "outputs": [],
   "source": [
    "import sklearn\n",
    "import joblib as jl\n",
    "import numpy as np\n",
    "import pandas as pd\n",
    "import xgboost as xgb"
   ]
  },
  {
   "cell_type": "code",
   "execution_count": 2,
   "metadata": {
    "collapsed": true
   },
   "outputs": [],
   "source": [
    "trainset, trainlabel, testset, testlabel = jl.load('./data/data-ngrams.jl.z') "
   ]
  },
  {
   "cell_type": "code",
   "execution_count": 3,
   "metadata": {
    "collapsed": true
   },
   "outputs": [],
   "source": [
    "dtrain = xgb.DMatrix(trainset, trainlabel)\n",
    "dtest = xgb.DMatrix(testset, testlabel)"
   ]
  },
  {
   "cell_type": "code",
   "execution_count": null,
   "metadata": {
    "scrolled": false
   },
   "outputs": [
    {
     "name": "stdout",
     "output_type": "stream",
     "text": [
      "[0]\ttrain-merror:0.371133\tval-merror:0.462692\n",
      "Multiple eval metrics have been passed: 'val-merror' will be used for early stopping.\n",
      "\n",
      "Will train until val-merror hasn't improved in 100 rounds.\n",
      "[1]\ttrain-merror:0.281863\tval-merror:0.379713\n",
      "[2]\ttrain-merror:0.243769\tval-merror:0.346654\n",
      "[3]\ttrain-merror:0.218756\tval-merror:0.32727\n",
      "[4]\ttrain-merror:0.198073\tval-merror:0.309612\n",
      "[5]\ttrain-merror:0.184462\tval-merror:0.303107\n"
     ]
    }
   ],
   "source": [
    "params={\n",
    "'booster':'gbtree',\n",
    "'objective': 'multi:softmax',\n",
    "'num_class':20, \n",
    "'gamma':0.1,  \n",
    "'max_depth':12, \n",
    "'lambda':2,  \n",
    "'subsample':0.7, \n",
    "'colsample_bytree':0.7, \n",
    "'min_child_weight':3, \n",
    "'silent':0 ,\n",
    "'eta': 0.2, \n",
    "'seed':1000,\n",
    "'nthread':8,\n",
    "#'eval_metric': 'error'\n",
    "}\n",
    "\n",
    "plst = list(params.items())\n",
    "num_rounds = 200\n",
    "watchlist = [(dtrain, 'train'), (dtest, 'val')]\n",
    "\n",
    "model = xgb.train(plst, dtrain, num_rounds, watchlist, early_stopping_rounds=100)\n",
    "model.save_model('./model/xgb.model') \n",
    "\n",
    "print (\"best best_ntree_limit\", model.best_ntree_limit) "
   ]
  },
  {
   "cell_type": "code",
   "execution_count": 38,
   "metadata": {},
   "outputs": [
    {
     "name": "stdout",
     "output_type": "stream",
     "text": [
      "0.7507966011683483\n"
     ]
    }
   ],
   "source": [
    "pred = model.predict(dtest)\n",
    "print (sklearn.metrics.accuracy_score(pred, testlabel))"
   ]
  }
 ],
 "metadata": {
  "kernelspec": {
   "display_name": "Python 3",
   "language": "python",
   "name": "python3"
  },
  "language_info": {
   "codemirror_mode": {
    "name": "ipython",
    "version": 3
   },
   "file_extension": ".py",
   "mimetype": "text/x-python",
   "name": "python",
   "nbconvert_exporter": "python",
   "pygments_lexer": "ipython3",
   "version": "3.6.2"
  }
 },
 "nbformat": 4,
 "nbformat_minor": 2
}
